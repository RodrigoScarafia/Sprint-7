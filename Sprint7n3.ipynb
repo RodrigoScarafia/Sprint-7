{
 "cells": [
  {
   "cell_type": "markdown",
   "metadata": {},
   "source": [
    "# Importo librías"
   ]
  },
  {
   "cell_type": "code",
   "execution_count": 86,
   "metadata": {},
   "outputs": [],
   "source": [
    "import re\n",
    "from collections import Counter, defaultdict"
   ]
  },
  {
   "cell_type": "markdown",
   "metadata": {},
   "source": [
    "# Exercici 1\n",
    "# Calculadora de Indice de Masa Corporal\n",
    "## Averigue si se encuentra saludable respecto a su peso\n",
    "- El IMC es un indicador confiable de la gordura\n",
    "- Se usa para identificar las categorías de peso que pueden llevar a problemas de salud\n",
    "- Se calcula dividiendo el peso en kg entre el cuadrado de la altura en metros\n",
    "1. Bajo peso: menos de 18,5.\n",
    "2. Peso normal: 18,5-24,9.\n",
    "3. Sobrepeso: 25-29,9.\n",
    "4. Obesidad: más de 30."
   ]
  },
  {
   "cell_type": "markdown",
   "metadata": {},
   "source": [
    "### Creo una función para la entrada de datos\n",
    "#### Esta función solicita el peso y la altura del usuario y los devuelve.\n"
   ]
  },
  {
   "cell_type": "code",
   "execution_count": 61,
   "metadata": {},
   "outputs": [],
   "source": [
    "def entradaDatos():\n",
    "    peso = (input('Escriba su peso en kg: ')).replace(',', '.')\n",
    "    peso = float(peso)\n",
    "    altura = (input('ahora escriba su altura en metros: (usar puntos, no comas) ')).replace(',', '.')\n",
    "    altura = float(altura)\n",
    "    return peso, altura\n",
    "   "
   ]
  },
  {
   "cell_type": "markdown",
   "metadata": {},
   "source": [
    "- reemplazo comas por puntos para que lo interprete como número de cualquier modo que lo cargue el usuario\n",
    "- luego la entrada del usuario es un string así que lo transformo en float para poder operar numéricamente\n",
    "- la función retornará las 2 variables cargadas por el usuario"
   ]
  },
  {
   "cell_type": "markdown",
   "metadata": {},
   "source": [
    "### Calculo IMC\n",
    "#### Esta función recibe el peso y la altura, y calcula el IMC."
   ]
  },
  {
   "cell_type": "code",
   "execution_count": 62,
   "metadata": {},
   "outputs": [],
   "source": [
    "def calculoIMC(peso, altura):\n",
    "    IMC = peso / altura ** 2\n",
    "    return IMC"
   ]
  },
  {
   "cell_type": "markdown",
   "metadata": {},
   "source": [
    "1. defino una función calculo IMC que utilice los parámetros peso y altura\n",
    "2. hago el cálculo del IMC\n",
    "3. la función retornará el valor de IMC"
   ]
  },
  {
   "cell_type": "markdown",
   "metadata": {},
   "source": [
    "### Categorizo la respuesta (IMC)\n",
    "#### Esta función recibe el IMC calculado y devuelve una cadena con la categoría correspondiente."
   ]
  },
  {
   "cell_type": "code",
   "execution_count": 63,
   "metadata": {},
   "outputs": [],
   "source": [
    "def categorizaIMC(IMC):\n",
    "    if IMC < 18.5:\n",
    "        return 'Usted está bajo peso'\n",
    "    elif IMC < 24.9:\n",
    "        return 'Usted tiene un peso normal'\n",
    "    elif IMC < 29.9:\n",
    "        return 'Usted tiene sobrepeso'\n",
    "    else:\n",
    "        return 'Usted tiene obesidad'\n"
   ]
  },
  {
   "cell_type": "markdown",
   "metadata": {},
   "source": [
    "### Creo al función principal que llama a las 3 funciones\n",
    "#### Esta función orquesta el flujo del programa llamando a las funciones anteriores y mostrando los resultados al usuario.\n"
   ]
  },
  {
   "cell_type": "code",
   "execution_count": 64,
   "metadata": {},
   "outputs": [],
   "source": [
    "def mainIMC():\n",
    "    peso, altura = entradaDatos()\n",
    "    print(f\"Peso: {peso} Kg, Altura: {altura} m\")\n",
    "    IMC = calculoIMC(peso, altura)\n",
    "    print(f'Tu índice de masa corporal es: {IMC:.2f}')\n",
    "    print(categorizaIMC(IMC))"
   ]
  },
  {
   "cell_type": "markdown",
   "metadata": {},
   "source": [
    "1. entrada de datos\n",
    "2. calculo IMC\n",
    "3. categorización resultados"
   ]
  },
  {
   "cell_type": "code",
   "execution_count": 26,
   "metadata": {},
   "outputs": [
    {
     "name": "stdout",
     "output_type": "stream",
     "text": [
      "Peso: 95.0 Kg, Altura: 1.82 m\n",
      "Tu índice de masa corporal es: 28.68\n",
      "Usted tiene sobrepeso\n"
     ]
    }
   ],
   "source": [
    "mainIMC()"
   ]
  },
  {
   "cell_type": "markdown",
   "metadata": {},
   "source": [
    "# Exercici 2\n",
    "# Conversor de temperaturas\n",
    "Existen diversas unidades de temperatura utilizadas en distintos contextos y regiones. \n",
    "Introduzca una temperatura en Celsius (°C) y el conversor le devolverá su equivalente en Fahrenheit (°F) y Kelvin (K)."
   ]
  },
  {
   "cell_type": "markdown",
   "metadata": {},
   "source": [
    "#### Función para la entrada de datos"
   ]
  },
  {
   "cell_type": "code",
   "execution_count": 28,
   "metadata": {},
   "outputs": [],
   "source": [
    "def entradaTemperatura():\n",
    "    print('Introduzca una temperatura en ºC (celsius)')\n",
    "    celsius = float(input())\n",
    "    return celsius"
   ]
  },
  {
   "cell_type": "markdown",
   "metadata": {},
   "source": [
    " #### Función para la conversión de temperatura"
   ]
  },
  {
   "cell_type": "code",
   "execution_count": 29,
   "metadata": {},
   "outputs": [],
   "source": [
    "def conversiónTemperatura(celsius):\n",
    "    farenheit = celsius * 1.8 + 32\n",
    "    kelvin = celsius + 273.15\n",
    "    return farenheit, kelvin"
   ]
  },
  {
   "cell_type": "markdown",
   "metadata": {},
   "source": [
    "#### Función Main"
   ]
  },
  {
   "cell_type": "code",
   "execution_count": 30,
   "metadata": {},
   "outputs": [],
   "source": [
    "def main_conversor_temperaturas():\n",
    "    celsius = entradaTemperatura()\n",
    "    farenheit, kelvin = conversiónTemperatura(celsius)\n",
    "    print(f'Los {celsius} ºC equivalen a {farenheit} ºF (Farenheit), y a {kelvin} ºK (Kelvin)')"
   ]
  },
  {
   "cell_type": "code",
   "execution_count": 31,
   "metadata": {},
   "outputs": [
    {
     "name": "stdout",
     "output_type": "stream",
     "text": [
      "Introduzca una temperatura en ºC (celsius)\n",
      "Los 33.0 ºC equivalen a 91.4 ºF (Farenheit), y a 306.15 ºK (Kelvin)\n"
     ]
    }
   ],
   "source": [
    "main_conversor_temperaturas()"
   ]
  },
  {
   "cell_type": "markdown",
   "metadata": {},
   "source": [
    "# Exercici 3\n",
    "# Contador de palabras de un texto\n",
    "Escribe una función que dado un texto, muestre las veces que aparece cada palabra."
   ]
  },
  {
   "cell_type": "markdown",
   "metadata": {},
   "source": [
    "#### Función entrada"
   ]
  },
  {
   "cell_type": "code",
   "execution_count": 33,
   "metadata": {},
   "outputs": [],
   "source": [
    "def ingresar_txt():\n",
    "    print('Ingrese un texto, si quiere repita palabras')\n",
    "    txt = input()\n",
    "    return txt"
   ]
  },
  {
   "cell_type": "markdown",
   "metadata": {},
   "source": [
    "### Función procesar texto\n",
    "1. convertimos a minúsculas con .lower()\n",
    "2. eliminamos puntuación con (expresiones regulares) \n",
    "    - \\w (letras y números) \n",
    "    - \\s (espacios, tabulaciones, nuevas líneas) \n",
    "    - [^...] es una negación, significa \"cualquier carácter que NO sea\" lo que está dentro de los corchetes\n",
    "3. Dividimos el texto en palabras y las ordenamos alfabéticamente"
   ]
  },
  {
   "cell_type": "code",
   "execution_count": 34,
   "metadata": {},
   "outputs": [],
   "source": [
    "def procesarTxt(txt):\n",
    "    txt = txt.lower()\n",
    "    txt = re.sub(r'[^\\w\\s]','', txt)  \n",
    "    palabras = sorted(txt.split())\n",
    "    return palabras"
   ]
  },
  {
   "cell_type": "markdown",
   "metadata": {},
   "source": [
    "4. Otra forma de eliminar puntuación con String, que dejamos comentada porque no utilizaremos"
   ]
  },
  {
   "cell_type": "code",
   "execution_count": 35,
   "metadata": {},
   "outputs": [],
   "source": [
    "# import string\n",
    "# Eliminar puntuación\n",
    "# txt = txt.translate(str.maketrans('','', string.punctuation))"
   ]
  },
  {
   "cell_type": "markdown",
   "metadata": {},
   "source": [
    "### Función contar frecuencia de palabras\n",
    "#### Crear un diccionario para contar la frecuencia de cada palabra\n",
    "1. Inicializar un diccionario vacío\n",
    "2. Contar la frecuencia de cada palabra"
   ]
  },
  {
   "cell_type": "code",
   "execution_count": 36,
   "metadata": {},
   "outputs": [],
   "source": [
    "def contar_frecuencia_palabras(palabras):\n",
    "    frecuencia_palabras = {}\n",
    "    for palabra in palabras:\n",
    "        if palabra in frecuencia_palabras:\n",
    "            frecuencia_palabras[palabra] += 1\n",
    "        else:\n",
    "            frecuencia_palabras[palabra] = 1  \n",
    "    return frecuencia_palabras"
   ]
  },
  {
   "cell_type": "markdown",
   "metadata": {},
   "source": [
    "### Opción alternativa de contar frecuencia automática con Counter\n",
    "- luego de separar el texto con split\n",
    "- Contar la frecuencia de cada palabra usando Counter"
   ]
  },
  {
   "cell_type": "code",
   "execution_count": 37,
   "metadata": {},
   "outputs": [],
   "source": [
    "def contar_frecuencia_palabras2(palabras):\n",
    "    return Counter(palabras)\n",
    "    "
   ]
  },
  {
   "cell_type": "markdown",
   "metadata": {},
   "source": [
    "### Mostrar resultados\n",
    "- con un bucle for y el método .items() extraemos tuplas de clave valor de cada elemento del diccionario\n",
    "- los imprimimos"
   ]
  },
  {
   "cell_type": "code",
   "execution_count": 38,
   "metadata": {},
   "outputs": [],
   "source": [
    "\n",
    "def mostrar_frecuencia(frecuencia_palabras):\n",
    "    for palabra, frecuencia in frecuencia_palabras.items():\n",
    "        print(f\"{palabra}: {frecuencia}\")"
   ]
  },
  {
   "cell_type": "markdown",
   "metadata": {},
   "source": [
    "### La función principal\n",
    "- ejecuta todas las funciones\n",
    "- decidimos usar la función manual de contar frecuencia palabras y por eso comentamos la \"contar_frecuencia_palabras2\"\n",
    "- también dejamos comentado una impresión del diccionario que usamos como verificación previa a mostrar palabras"
   ]
  },
  {
   "cell_type": "code",
   "execution_count": 39,
   "metadata": {},
   "outputs": [],
   "source": [
    "def main_cont_palabras():\n",
    "    txt = ingresar_txt()\n",
    "    palabras = procesarTxt(txt)\n",
    "    frecuencia_palabras = contar_frecuencia_palabras(palabras)\n",
    "    # frecuencia_palabras = contar_frecuencia_palabras2(palabras)\n",
    "    # print(frecuencia_palabras) # chequeo diccionario \n",
    "    mostrar_frecuencia(frecuencia_palabras)"
   ]
  },
  {
   "cell_type": "markdown",
   "metadata": {},
   "source": [
    "### Ejecutamos la función principal"
   ]
  },
  {
   "cell_type": "code",
   "execution_count": 40,
   "metadata": {},
   "outputs": [
    {
     "name": "stdout",
     "output_type": "stream",
     "text": [
      "Ingrese un texto, si quiere repita palabras\n",
      "bien: 2\n",
      "como: 1\n",
      "hola: 1\n",
      "también: 1\n",
      "tu: 1\n",
      "va: 2\n",
      "y: 1\n"
     ]
    }
   ],
   "source": [
    "main_cont_palabras()"
   ]
  },
  {
   "cell_type": "markdown",
   "metadata": {},
   "source": [
    "# Exercici 4\n",
    "# Diccionario Inverso\n",
    "Resulta que el cliente tiene una encuesta muy antigua que se almacena en un diccionario y los resultados los necesita a la inversa, es decir, intercambiados las claves y valores. Los valores y claves en el diccionario original son únicos; si éste no es el caso, la función debería imprimir un mensaje de advertencia."
   ]
  },
  {
   "cell_type": "markdown",
   "metadata": {},
   "source": [
    "#### Creamos un diccionario de Ciudades y su principal monumento\n",
    "- dejamos comentado un registro que tiene valor repetido\n",
    "- si descomentamos esa línea probamos la otra opción del código"
   ]
  },
  {
   "cell_type": "code",
   "execution_count": 41,
   "metadata": {},
   "outputs": [],
   "source": [
    "monumentos = {\n",
    "        'Buenos Aires': 'Obelisco',\n",
    "        'París': 'Arco del Triunfo',\n",
    "        'Roma': 'Coliseo',\n",
    "        'El Cairo': 'Pirámides de Giza',\n",
    "        'Londres': 'Big Ben',\n",
    "        'Nueva York': 'Estatua de la Libertad',\n",
    "        'Barcelona': 'Sagrada Familia',\n",
    "        'Pisa': 'Torre Inclinada de Pisa',\n",
    "        #'Montevideo': 'Obelisco',\n",
    "        'San Petersburgo': 'Hermitage'\n",
    "    }"
   ]
  },
  {
   "cell_type": "markdown",
   "metadata": {},
   "source": [
    "### Función para invertir el diccionario\n",
    "1. Crear una función que recibe un diccionario original como parámetro\n",
    "2. Crear un diccionario vacío para almacenar el diccionario invertido\n",
    "3. Crear una variable de control para salir del bucle\n",
    "4. Crear un bucle for extraer los elementos clave valor con .items()\n",
    "5. Si en la iteración del diccionario original se encuentra un valor que ya existe como una clave en diccionario_invertido, se detiene el bucle y muestra un mensaje de advertencia por claves duplicadas.\n",
    "6. De no haber duplicados, el bucle va agregando la entrada invertida hasta completar el nuevo diccionario\n",
    "7. Si obtuvimos el error sin duplicados modificamos el mensaje por el nuevo diccionario\n",
    "8. Creamos una vista mas clara del nuevo dicccionario extrayendo lo elementos clave valor y mostrándolos con un .join"
   ]
  },
  {
   "cell_type": "code",
   "execution_count": 42,
   "metadata": {},
   "outputs": [],
   "source": [
    "def invertir_diccionario(monumentos):\n",
    "    diccionario_invertido = {}\n",
    "    duplicado_encontrado = False\n",
    "    mensaje = ''\n",
    "\n",
    "    for ciudad, monumento in monumentos.items():\n",
    "        if monumento in diccionario_invertido:\n",
    "            duplicado_encontrado = True\n",
    "            mensaje ='Error: múltiples claves para un valor'\n",
    "            break\n",
    "        else:\n",
    "            diccionario_invertido[monumento] = ciudad\n",
    "\n",
    "    if not duplicado_encontrado:\n",
    "        mensaje = diccionario_invertido\n",
    "        mensaje = '\\n'.join(f'{monumento}: {ciudad}' for monumento, ciudad in diccionario_invertido.items())\n",
    "\n",
    "    return mensaje\n",
    "\n"
   ]
  },
  {
   "cell_type": "markdown",
   "metadata": {},
   "source": [
    "### Función principal\n",
    "- ejecuta e imprime el diccionario invertido"
   ]
  },
  {
   "cell_type": "code",
   "execution_count": 43,
   "metadata": {},
   "outputs": [],
   "source": [
    "def main_invertir_diccionario():\n",
    "    diccionario_invertido = invertir_diccionario(monumentos)\n",
    "    print(diccionario_invertido)\n",
    "    #mostrar_diccionario(diccionario_invertido)\n"
   ]
  },
  {
   "cell_type": "markdown",
   "metadata": {},
   "source": [
    "### Ejecutamos la función principal"
   ]
  },
  {
   "cell_type": "code",
   "execution_count": 44,
   "metadata": {},
   "outputs": [
    {
     "name": "stdout",
     "output_type": "stream",
     "text": [
      "Obelisco: Buenos Aires\n",
      "Arco del Triunfo: París\n",
      "Coliseo: Roma\n",
      "Pirámides de Giza: El Cairo\n",
      "Big Ben: Londres\n",
      "Estatua de la Libertad: Nueva York\n",
      "Sagrada Familia: Barcelona\n",
      "Torre Inclinada de Pisa: Pisa\n",
      "Hermitage: San Petersburgo\n"
     ]
    }
   ],
   "source": [
    "main_invertir_diccionario()"
   ]
  },
  {
   "cell_type": "markdown",
   "metadata": {},
   "source": [
    "# Nivel 2, Exercici 1"
   ]
  },
  {
   "cell_type": "markdown",
   "metadata": {},
   "source": [
    "# Diccionario Inverso con duplicados\n",
    "Continuando con el ejercicio 4 del nivel 1: al cliente se olvidó comentar un detalle y resulta que los valores en el diccionario original pueden duplicarse y más, por lo que las claves intercambiadas pueden tener duplicados. En este caso, en el ejercicio anterior imprimías un mensaje de advertencia, ahora, los valores del diccionario resultante tendrán que almacenarse como una lista. Ten en cuenta que si es un valor único no debe ser una lista.\n",
    "\n",
    "Se busca que si el valor para una clave no es únicio, se cree una lista como valor para esa clave"
   ]
  },
  {
   "cell_type": "markdown",
   "metadata": {},
   "source": [
    "#### Creamos un diccionario de Ciudades y su principal monumento\n",
    "- dejamos comentado un registro que tiene valor repetido\n",
    "- si descomentamos esa línea probamos la otra opción del código\n"
   ]
  },
  {
   "cell_type": "code",
   "execution_count": 45,
   "metadata": {},
   "outputs": [],
   "source": [
    "monumentos = {\n",
    "        'Buenos Aires': 'Obelisco',\n",
    "        'París': 'Arco del Triunfo',\n",
    "        'Roma': 'Coliseo',\n",
    "        'El Cairo': 'Pirámides de Giza',\n",
    "        'Londres': 'Big Ben',\n",
    "        'Nueva York': 'Estatua de la Libertad',\n",
    "        'Barcelona': 'Sagrada Familia',\n",
    "        'Pisa': 'Torre Inclinada de Pisa',\n",
    "        'Montevideo': 'Obelisco',\n",
    "        'Luxor': 'Obelisco',\n",
    "        'San Petersburgo': 'Hermitage'\n",
    "    }\n"
   ]
  },
  {
   "cell_type": "markdown",
   "metadata": {},
   "source": [
    "### Función para invertir el diccionario\n",
    "1. Crear una función que recibe un diccionario original como parámetro\n",
    "2. Crear un diccionario vacío para almacenar el diccionario invertido\n",
    "3. Crear un bucle for extraer los elementos ciudad monumento con .items()\n",
    "4. Si en la iteración del diccionario original se encuentra un monumento que ya existe como una clave en diccionario_invertido:\n",
    "    - si la variable clave del diccionario invertido (que es su ciudad) es una lista (o sea que ya se transformó antes) simplemente agrega el nuevo elemento 'ciudad' a la lista.\n",
    "    - si es la primera vez que se repite el monumento, se transforma el valor (cidudad) para esa clave en una lista de ciudades, con las ya existentes, mas la que se está iterando.\n",
    "6. De no haber duplicados, el bucle va agregando la entrada invertida hasta completar el nuevo diccionario\n",
    "\n",
    "8. Creamos una vista mas clara del nuevo dicccionario extrayendo lo elementos ciudad monumento y mostrándolos con un .join"
   ]
  },
  {
   "cell_type": "code",
   "execution_count": 46,
   "metadata": {},
   "outputs": [],
   "source": [
    "def invertir_diccionario(diccionario):\n",
    "    diccionario_invertido = {}\n",
    "    mensaje = ''\n",
    "\n",
    "    for ciudad, monumento in diccionario.items():\n",
    "        if monumento in diccionario_invertido:\n",
    "            if isinstance(diccionario_invertido[monumento],list):\n",
    "                diccionario_invertido[monumento].append(ciudad)\n",
    "            else:\n",
    "                diccionario_invertido[monumento] = [diccionario_invertido[monumento], ciudad]\n",
    "        else:\n",
    "            diccionario_invertido[monumento] = ciudad\n",
    "\n",
    "    mensaje = diccionario_invertido\n",
    "    mensaje = '\\n'.join(f'{monumento}: {ciudad}' for monumento, ciudad in diccionario_invertido.items())\n",
    "\n",
    "    return mensaje\n",
    "\n"
   ]
  },
  {
   "cell_type": "markdown",
   "metadata": {},
   "source": [
    "### Función principal\n",
    "- ejecuta e imprime el diccionario invertido"
   ]
  },
  {
   "cell_type": "code",
   "execution_count": 47,
   "metadata": {},
   "outputs": [],
   "source": [
    "def main_invertir_diccionario_con_duplicados(diccionario):\n",
    "    diccionario_invertido = invertir_diccionario(diccionario)\n",
    "    print(diccionario_invertido)\n",
    "    #mostrar_diccionario(diccionario_invertido)\n"
   ]
  },
  {
   "cell_type": "markdown",
   "metadata": {},
   "source": [
    "### Ejecutamos la función principal"
   ]
  },
  {
   "cell_type": "code",
   "execution_count": 48,
   "metadata": {},
   "outputs": [
    {
     "name": "stdout",
     "output_type": "stream",
     "text": [
      "Obelisco: ['Buenos Aires', 'Montevideo', 'Luxor']\n",
      "Arco del Triunfo: París\n",
      "Coliseo: Roma\n",
      "Pirámides de Giza: El Cairo\n",
      "Big Ben: Londres\n",
      "Estatua de la Libertad: Nueva York\n",
      "Sagrada Familia: Barcelona\n",
      "Torre Inclinada de Pisa: Pisa\n",
      "Hermitage: San Petersburgo\n"
     ]
    }
   ],
   "source": [
    "main_invertir_diccionario_con_duplicados(monumentos)"
   ]
  },
  {
   "cell_type": "markdown",
   "metadata": {},
   "source": [
    "### Hago una prueba que puedo invertir otro diccionario\n",
    "- pruebo declarando otra diccionario a nivel global\n",
    "- llamo (reutilizo) a la función principal con ese nuevo parámetro"
   ]
  },
  {
   "cell_type": "code",
   "execution_count": 49,
   "metadata": {},
   "outputs": [],
   "source": [
    "frutas_verduras = {\n",
    "    'manzana': 'tomate',\n",
    "    'naranja': 'lechuga'\n",
    "}"
   ]
  },
  {
   "cell_type": "code",
   "execution_count": 50,
   "metadata": {},
   "outputs": [
    {
     "name": "stdout",
     "output_type": "stream",
     "text": [
      "tomate: manzana\n",
      "lechuga: naranja\n"
     ]
    }
   ],
   "source": [
    "main_invertir_diccionario_con_duplicados(frutas_verduras)"
   ]
  },
  {
   "cell_type": "markdown",
   "metadata": {},
   "source": [
    "# Exercici 2\n",
    "# Conversión de tipos de datos\n",
    "\n",
    "El cliente recibe una lista de datos y necesita generar dos listas, la primera donde estarán todos los elementos que pudieron convertirse en flotantes y la otra donde están los elementos que no pudieron convertirse. Ejemplo de la lista que recibe el cliente: [ '1.3', 'one' , '1e10' , 'seven', '3-1/2', ('2',1,1.4,'not-a-number' ), [1,2,'3','3.4']]"
   ]
  },
  {
   "cell_type": "markdown",
   "metadata": {},
   "source": [
    "### Función para verificar si un valor puede ser convertido a float.\n"
   ]
  },
  {
   "cell_type": "code",
   "execution_count": 51,
   "metadata": {},
   "outputs": [],
   "source": [
    "def es_convertible_a_float(valor):\n",
    "    try:\n",
    "        float(valor)\n",
    "        return True\n",
    "    except (ValueError, TypeError):\n",
    "        return False\n"
   ]
  },
  {
   "cell_type": "markdown",
   "metadata": {},
   "source": [
    "### Función para convertir un valor a float si es posible.\n"
   ]
  },
  {
   "cell_type": "code",
   "execution_count": 52,
   "metadata": {},
   "outputs": [],
   "source": [
    "\n",
    "def convertir_a_float(valor):\n",
    "    try:\n",
    "        return float(valor)\n",
    "    except (ValueError, TypeError):\n",
    "        return None\n"
   ]
  },
  {
   "cell_type": "markdown",
   "metadata": {},
   "source": [
    "### Función para analizar una lista de valores y separar los que son convertibles a float de los que no\n",
    "- creo las dos listas vacías\n",
    "- itero para llenarlas\n",
    "    1. utilizo isinstance para verificar y recorrer recursivamente aquellos valores de la lista, que sean a su vez otra lista o una tupla.\n",
    "    2. Tanto si va por la recursividad de subvalores o por valor de la lista original: utilizo primero la funcion auxiliar para ver si es convertible a float o no. \n",
    "        - Si lo es, utilizo la función auxiliar para convertirlo y lo agrego a la lista de convertidos\n",
    "        - Si no es convertible a float, lo agrego así como está en la lista de no convertidos."
   ]
  },
  {
   "cell_type": "code",
   "execution_count": 53,
   "metadata": {},
   "outputs": [],
   "source": [
    "\n",
    "def analizar_y_convertir(valores):\n",
    "    lista_convertidos = []\n",
    "    lista_no_convertidos = []\n",
    "\n",
    "    for valor in valores:\n",
    "        if isinstance(valor, (list, tuple)):\n",
    "            for subvalor in valor:\n",
    "                if es_convertible_a_float(subvalor):\n",
    "                    lista_convertidos.append(convertir_a_float(subvalor))\n",
    "                else:\n",
    "                    lista_no_convertidos.append(subvalor)\n",
    "        else:\n",
    "            if es_convertible_a_float(valor):\n",
    "                lista_convertidos.append(convertir_a_float(valor))\n",
    "            else:\n",
    "                lista_no_convertidos.append(valor)\n",
    "\n",
    "    return lista_convertidos, lista_no_convertidos\n"
   ]
  },
  {
   "cell_type": "markdown",
   "metadata": {},
   "source": [
    "### Función Principal\n",
    "- recibe el parámetro de una lista y le aplica las funciones devolviendo dos listas\n"
   ]
  },
  {
   "cell_type": "code",
   "execution_count": 54,
   "metadata": {},
   "outputs": [],
   "source": [
    "def main_convertir_tipos_datos(valores):\n",
    "    lista_convertidos, lista_no_convertidos = analizar_y_convertir(valores)\n",
    "    print(\"Convertidos:\", lista_convertidos)\n",
    "    print(\"No convertidos:\", lista_no_convertidos)\n"
   ]
  },
  {
   "cell_type": "markdown",
   "metadata": {},
   "source": [
    "### Ejecuto la función Principal\n",
    "- defino los valores de la lista original\n",
    "- ejecuto función con esos parámetros"
   ]
  },
  {
   "cell_type": "code",
   "execution_count": 55,
   "metadata": {},
   "outputs": [
    {
     "name": "stdout",
     "output_type": "stream",
     "text": [
      "Convertidos: [1.3, 10000000000.0, 2.0, 1.0, 2.0, 3.0, 3.4, 4.5]\n",
      "No convertidos: ['one', 'seven', '3-1/2', 'six']\n"
     ]
    }
   ],
   "source": [
    "valores = ['1.3', 'one', '1e10', 'seven', '3-1/2', '2', [1, 2, '3', '3.4'], ('4.5', 'six')]\n",
    "main_convertir_tipos_datos(valores)"
   ]
  },
  {
   "cell_type": "markdown",
   "metadata": {},
   "source": [
    "# Nivel 3, Exercici 1\n",
    "# Contador y ordenador de palabras de un texto\n",
    "\n",
    "El cliente quedó contento con el contador de palabras, pero ahora quiere leer archivos TXT y que calcule la frecuencia de cada palabra ordenadas dentro de las entradas habituales del diccionario según la letra con la que comienzan, es decir, las claves deben ir de la A a la Z y dentro de la A debemos ir de la A a la Z. Por ejemplo, para el archivo \"tu_me_quieres_blanca.txt\" la salida esperada sería:\n",
    "\n"
   ]
  },
  {
   "cell_type": "markdown",
   "metadata": {},
   "source": [
    "#### Función lee archivo y lo almacena en contenido\n",
    "#### Lee el contenido de un archivo TXT y devuelve el texto\n",
    "Descargo el archivo de los recursos y lo ubico en la misma ruta que este archivo de jupyter con codigo python\n",
    "1. Recibe el parámetro del nombre del archivo\n",
    "2. Abre el archivo en modo lectura 'r', encoding='utf-8' asegura que se manejen correctamente caracteres especiales y acentos\n",
    "3. with: Es una forma segura de manejar archivos. Asegura que el archivo se cierre automáticamente después de que terminamos de trabajar con él\n",
    "4. El método .read() lee todo el texto del archivo y lo almacena en la variable contenido. "
   ]
  },
  {
   "cell_type": "code",
   "execution_count": 87,
   "metadata": {},
   "outputs": [],
   "source": [
    "def leer_archivo(nombre_archivo):\n",
    "    with open(nombre_archivo, 'r', encoding='utf-8') as archivo:\n",
    "        txt = archivo.read()\n",
    "    return txt"
   ]
  },
  {
   "cell_type": "markdown",
   "metadata": {},
   "source": [
    "### Función agregar indice de letra\n",
    "#### Ordena las palabras en un diccionario donde las claves son letras y los valores son listas de palabras\n",
    "### Reutilizo las funciones de procesar texto y contar frecuencia del ejercicio N1.E3\n",
    "1. Utilizo un defaultdict con listas como valores por defecto. Este método proporciona un valor predeterminado para una clave que no existe, lo que evita el error\n",
    "2. Agrupa palabras por la letra inicial"
   ]
  },
  {
   "cell_type": "code",
   "execution_count": 88,
   "metadata": {},
   "outputs": [],
   "source": [
    "def agregar_indice(txt):\n",
    "    frecuencias = contar_frecuencia_palabras(procesarTxt(txt))\n",
    "    diccionario_ordenado = defaultdict(list)\n",
    "    for palabra, frecuencia in frecuencias.items():\n",
    "        letra_inicial = palabra[0]\n",
    "        diccionario_ordenado[letra_inicial].append((palabra, frecuencia))        \n",
    "    return diccionario_ordenado\n"
   ]
  },
  {
   "cell_type": "markdown",
   "metadata": {},
   "source": [
    "### Función principal\n"
   ]
  },
  {
   "cell_type": "code",
   "execution_count": 89,
   "metadata": {},
   "outputs": [],
   "source": [
    "\n",
    "def main(nombre_archivo):\n",
    "    txt = leer_archivo(nombre_archivo)\n",
    "    diccionario_ordenado = agregar_indice(txt)\n",
    "    return diccionario_ordenado"
   ]
  },
  {
   "cell_type": "markdown",
   "metadata": {},
   "source": [
    "\n",
    "### Ejecutar la función principal\n"
   ]
  },
  {
   "cell_type": "code",
   "execution_count": 90,
   "metadata": {},
   "outputs": [
    {
     "data": {
      "text/plain": [
       "defaultdict(list,\n",
       "            {'a': [('a', 3),\n",
       "              ('agua', 1),\n",
       "              ('al', 2),\n",
       "              ('alba', 4),\n",
       "              ('alcobas', 1),\n",
       "              ('alimenta', 1),\n",
       "              ('alma', 1),\n",
       "              ('amarga', 1),\n",
       "              ('azucena', 1)],\n",
       "             'b': [('baco', 1),\n",
       "              ('banquete', 1),\n",
       "              ('bebe', 1),\n",
       "              ('blanca', 3),\n",
       "              ('boca', 1),\n",
       "              ('bosques', 1),\n",
       "              ('buen', 1)],\n",
       "             'c': [('cabañas', 1),\n",
       "              ('carnes', 2),\n",
       "              ('casta', 3),\n",
       "              ('cerrada', 1),\n",
       "              ('con', 4),\n",
       "              ('conservas', 1),\n",
       "              ('copas', 1),\n",
       "              ('corola', 1),\n",
       "              ('corriste', 1),\n",
       "              ('cuando', 2),\n",
       "              ('cubierto', 1),\n",
       "              ('cuerpo', 1),\n",
       "              ('cuáles', 1)],\n",
       "             'd': [('de', 8),\n",
       "              ('dejaste', 1),\n",
       "              ('del', 1),\n",
       "              ('diga', 1),\n",
       "              ('dios', 2),\n",
       "              ('duerme', 1)],\n",
       "             'e': [('el', 4),\n",
       "              ('ellas', 1),\n",
       "              ('en', 4),\n",
       "              ('engaño', 1),\n",
       "              ('enredada', 1),\n",
       "              ('entonces', 1),\n",
       "              ('escarcha', 1),\n",
       "              ('espumas', 1),\n",
       "              ('esqueleto', 1),\n",
       "              ('estrago', 1)],\n",
       "             'f': [('festejando', 1), ('filtrado', 1), ('frutos', 1)],\n",
       "             'h': [('habla', 1),\n",
       "              ('hacia', 1),\n",
       "              ('haya', 1),\n",
       "              ('hayas', 1),\n",
       "              ('hermana', 1),\n",
       "              ('hombre', 1),\n",
       "              ('hubiste', 1),\n",
       "              ('huye', 1)],\n",
       "             'i': [('intacto', 1)],\n",
       "             'j': [('jardines', 1)],\n",
       "             'l': [('la', 3),\n",
       "              ('labios', 1),\n",
       "              ('las', 7),\n",
       "              ('lo', 2),\n",
       "              ('los', 4),\n",
       "              ('luna', 1),\n",
       "              ('lévate', 1),\n",
       "              ('límpiate', 1)],\n",
       "             'm': [('mano', 1),\n",
       "              ('manos', 1),\n",
       "              ('margarita', 1),\n",
       "              ('me', 10),\n",
       "              ('mi', 1),\n",
       "              ('mieles', 1),\n",
       "              ('milagros', 1),\n",
       "              ('mojada', 1),\n",
       "              ('montaña', 1),\n",
       "              ('morados', 1)],\n",
       "             'n': [('negros', 1),\n",
       "              ('ni', 2),\n",
       "              ('no', 1),\n",
       "              ('nácar', 1),\n",
       "              ('nívea', 2)],\n",
       "             'p': [('perdone', 2),\n",
       "              ('perfume', 1),\n",
       "              ('por', 2),\n",
       "              ('pretendes', 3),\n",
       "              ('preténdeme', 3),\n",
       "              ('puesto', 1),\n",
       "              ('pájaros', 1),\n",
       "              ('pámpanos', 1)],\n",
       "             'q': [('que', 6), ('quedó', 1), ('quieres', 6)],\n",
       "             'r': [('rayo', 1),\n",
       "              ('raíz', 1),\n",
       "              ('renueva', 1),\n",
       "              ('rocas', 1),\n",
       "              ('rojo', 1)],\n",
       "             's': [('salitre', 1),\n",
       "              ('se', 2),\n",
       "              ('sea', 1),\n",
       "              ('sean', 1),\n",
       "              ('sobre', 2),\n",
       "              ('sé', 1)],\n",
       "             't': [('te', 3),\n",
       "              ('tejidos', 1),\n",
       "              ('tenue', 1),\n",
       "              ('tierra', 1),\n",
       "              ('toca', 1),\n",
       "              ('todas', 2),\n",
       "              ('todavía', 1),\n",
       "              ('tornadas', 1),\n",
       "              ('tú', 8)],\n",
       "             'u': [('un', 1), ('una', 1)],\n",
       "             'v': [('vestido', 1), ('vete', 1), ('vive', 1)],\n",
       "             'y': [('y', 5)]})"
      ]
     },
     "execution_count": 90,
     "metadata": {},
     "output_type": "execute_result"
    }
   ],
   "source": [
    "nombre_archivo = 'tu_me_quieres_blanca.txt'\n",
    "main(nombre_archivo)"
   ]
  }
 ],
 "metadata": {
  "kernelspec": {
   "display_name": "Python 3",
   "language": "python",
   "name": "python3"
  },
  "language_info": {
   "codemirror_mode": {
    "name": "ipython",
    "version": 3
   },
   "file_extension": ".py",
   "mimetype": "text/x-python",
   "name": "python",
   "nbconvert_exporter": "python",
   "pygments_lexer": "ipython3",
   "version": "3.9.6"
  }
 },
 "nbformat": 4,
 "nbformat_minor": 2
}
